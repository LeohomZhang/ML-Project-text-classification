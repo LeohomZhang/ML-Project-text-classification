{
 "cells": [
  {
   "cell_type": "code",
   "execution_count": 2,
   "id": "0bf70a5a",
   "metadata": {
    "ExecuteTime": {
     "end_time": "2024-06-20T21:31:40.232699Z",
     "start_time": "2024-06-20T21:31:39.820058Z"
    }
   },
   "outputs": [],
   "source": [
    "import pandas as pd\n",
    "import numpy as np"
   ]
  },
  {
   "cell_type": "code",
   "execution_count": 2,
   "id": "b11f7071",
   "metadata": {
    "ExecuteTime": {
     "end_time": "2024-06-20T17:54:07.004304Z",
     "start_time": "2024-06-20T17:54:03.897621Z"
    }
   },
   "outputs": [],
   "source": [
    "path = r'GT_IPI.parquet'\n",
    "df = pd.read_parquet(path,engine = 'auto')"
   ]
  },
  {
   "cell_type": "code",
   "execution_count": 3,
   "id": "28f76ed9",
   "metadata": {
    "ExecuteTime": {
     "end_time": "2024-06-20T19:04:28.001868Z",
     "start_time": "2024-06-20T17:54:07.007305Z"
    }
   },
   "outputs": [
    {
     "name": "stdout",
     "output_type": "stream",
     "text": [
      "      identifier  original_count  duplicate_count  proportion_original\n",
      "0        3000169             201              149             0.574286\n",
      "1        3000193             128                3             0.977099\n",
      "2        3000350             143              114             0.556420\n",
      "3        3000374             206               31             0.869198\n",
      "4        3000665             154               26             0.855556\n",
      "...          ...             ...              ...                  ...\n",
      "29706    5830967               5                0             1.000000\n",
      "29707    5830990               1                0             1.000000\n",
      "29708    5831013             157               36             0.813472\n",
      "29709    5831045              17                0             1.000000\n",
      "29710    5831049             221               81             0.731788\n",
      "\n",
      "[29711 rows x 4 columns]\n",
      "         unique_index\n",
      "0             5289963\n",
      "1             5289964\n",
      "2             5289965\n",
      "3             5289966\n",
      "4             5289967\n",
      "...               ...\n",
      "3136021        799958\n",
      "3136022        799959\n",
      "3136023        799960\n",
      "3136024        799961\n",
      "3136025        799962\n",
      "\n",
      "[3136026 rows x 1 columns]\n"
     ]
    }
   ],
   "source": [
    "import pandas as pd\n",
    "\n",
    "def check_similarity(row1, row2, threshold=0.95):\n",
    "    # Compare float values for the given rows, handling zero values\n",
    "    for a, b in zip(row1, row2):\n",
    "        if a == 0 or b == 0:\n",
    "            if a != b:\n",
    "                return False\n",
    "        else:\n",
    "            if min(a, b) / max(a, b) < threshold:\n",
    "                return False\n",
    "    return True\n",
    "\n",
    "def process_data(df):\n",
    "    results = []\n",
    "    unique_indexes = []\n",
    "\n",
    "    # Find all columns that start with \"lang_pct\"\n",
    "    columns_to_compare = [col for col in df.columns if col.startswith(\"lang_pct\")]\n",
    "\n",
    "    for identifier, group in df.groupby('css_pk'):\n",
    "        group = group[columns_to_compare]\n",
    "        original_count = 0\n",
    "        duplicate_count = 0\n",
    "        unique_rows = []\n",
    "\n",
    "        while not group.empty:\n",
    "            original_row = group.iloc[0]\n",
    "            original_index = group.index[0]\n",
    "            duplicates = group.apply(lambda row: check_similarity(original_row, row), axis=1)\n",
    "            count_duplicates = duplicates.sum() - 1  # Subtract 1 to exclude the original row\n",
    "            if count_duplicates == 0:\n",
    "                unique_rows.append(original_index)\n",
    "            original_count += 1\n",
    "            duplicate_count += count_duplicates\n",
    "            group = group[~duplicates]  # Remove the duplicates and the original row\n",
    "\n",
    "        unique_indexes.extend(unique_rows)\n",
    "        results.append({'identifier': identifier, \n",
    "                        'original_count': original_count, \n",
    "                        'duplicate_count': duplicate_count,\n",
    "                        'proportion_original': original_count / (original_count + duplicate_count)})\n",
    "\n",
    "    result_df = pd.DataFrame(results)\n",
    "    unique_indexes_df = pd.DataFrame(unique_indexes, columns=['unique_index'])\n",
    "    return result_df, unique_indexes_df\n",
    "\n",
    "# Example usage\n",
    "result_df, unique_indexes_df = process_data(df)\n",
    "result_df.to_csv('proportions_6-20.csv', index=False)\n",
    "unique_indexes_df.to_csv('unique_indexes.csv', index=False)\n",
    "print(result_df)\n",
    "print(unique_indexes_df)\n"
   ]
  },
  {
   "cell_type": "code",
   "execution_count": 3,
   "id": "11d075db",
   "metadata": {
    "ExecuteTime": {
     "end_time": "2024-06-20T21:31:42.181991Z",
     "start_time": "2024-06-20T21:31:41.933055Z"
    }
   },
   "outputs": [],
   "source": [
    "indices = pd.read_csv('unique_indexes.csv')"
   ]
  },
  {
   "cell_type": "code",
   "execution_count": 9,
   "id": "1d39e78f",
   "metadata": {
    "ExecuteTime": {
     "end_time": "2024-06-20T21:34:32.453618Z",
     "start_time": "2024-06-20T21:34:32.449149Z"
    }
   },
   "outputs": [
    {
     "data": {
      "text/html": [
       "<div>\n",
       "<style scoped>\n",
       "    .dataframe tbody tr th:only-of-type {\n",
       "        vertical-align: middle;\n",
       "    }\n",
       "\n",
       "    .dataframe tbody tr th {\n",
       "        vertical-align: top;\n",
       "    }\n",
       "\n",
       "    .dataframe thead th {\n",
       "        text-align: right;\n",
       "    }\n",
       "</style>\n",
       "<table border=\"1\" class=\"dataframe\">\n",
       "  <thead>\n",
       "    <tr style=\"text-align: right;\">\n",
       "      <th></th>\n",
       "      <th>unique_index</th>\n",
       "    </tr>\n",
       "  </thead>\n",
       "  <tbody>\n",
       "    <tr>\n",
       "      <th>0</th>\n",
       "      <td>5289963</td>\n",
       "    </tr>\n",
       "    <tr>\n",
       "      <th>1</th>\n",
       "      <td>5289964</td>\n",
       "    </tr>\n",
       "    <tr>\n",
       "      <th>2</th>\n",
       "      <td>5289965</td>\n",
       "    </tr>\n",
       "    <tr>\n",
       "      <th>3</th>\n",
       "      <td>5289966</td>\n",
       "    </tr>\n",
       "    <tr>\n",
       "      <th>4</th>\n",
       "      <td>5289967</td>\n",
       "    </tr>\n",
       "    <tr>\n",
       "      <th>...</th>\n",
       "      <td>...</td>\n",
       "    </tr>\n",
       "    <tr>\n",
       "      <th>3136021</th>\n",
       "      <td>799958</td>\n",
       "    </tr>\n",
       "    <tr>\n",
       "      <th>3136022</th>\n",
       "      <td>799959</td>\n",
       "    </tr>\n",
       "    <tr>\n",
       "      <th>3136023</th>\n",
       "      <td>799960</td>\n",
       "    </tr>\n",
       "    <tr>\n",
       "      <th>3136024</th>\n",
       "      <td>799961</td>\n",
       "    </tr>\n",
       "    <tr>\n",
       "      <th>3136025</th>\n",
       "      <td>799962</td>\n",
       "    </tr>\n",
       "  </tbody>\n",
       "</table>\n",
       "<p>3136026 rows × 1 columns</p>\n",
       "</div>"
      ],
      "text/plain": [
       "         unique_index\n",
       "0             5289963\n",
       "1             5289964\n",
       "2             5289965\n",
       "3             5289966\n",
       "4             5289967\n",
       "...               ...\n",
       "3136021        799958\n",
       "3136022        799959\n",
       "3136023        799960\n",
       "3136024        799961\n",
       "3136025        799962\n",
       "\n",
       "[3136026 rows x 1 columns]"
      ]
     },
     "execution_count": 9,
     "metadata": {},
     "output_type": "execute_result"
    }
   ],
   "source": [
    "indices"
   ]
  },
  {
   "cell_type": "code",
   "execution_count": 11,
   "id": "0349ecc4",
   "metadata": {
    "ExecuteTime": {
     "end_time": "2024-06-20T21:34:44.095050Z",
     "start_time": "2024-06-20T21:34:43.959854Z"
    }
   },
   "outputs": [
    {
     "data": {
      "text/plain": [
       "3136026"
      ]
     },
     "execution_count": 11,
     "metadata": {},
     "output_type": "execute_result"
    }
   ],
   "source": [
    "len(indices['unique_index'].unique())"
   ]
  }
 ],
 "metadata": {
  "kernelspec": {
   "display_name": "Python 3 (ipykernel)",
   "language": "python",
   "name": "python3"
  },
  "language_info": {
   "codemirror_mode": {
    "name": "ipython",
    "version": 3
   },
   "file_extension": ".py",
   "mimetype": "text/x-python",
   "name": "python",
   "nbconvert_exporter": "python",
   "pygments_lexer": "ipython3",
   "version": "3.11.5"
  }
 },
 "nbformat": 4,
 "nbformat_minor": 5
}
